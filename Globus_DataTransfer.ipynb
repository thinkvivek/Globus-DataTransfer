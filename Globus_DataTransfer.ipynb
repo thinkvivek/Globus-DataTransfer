{
 "cells": [
  {
   "cell_type": "markdown",
   "id": "aab190eb",
   "metadata": {},
   "source": [
    "# Python Code to Transfer data to Globus\n",
    "\n",
    "### Steps to install globus-sdk\n",
    "\n",
    "1. Install Globus SDK with the help of pip package manager\\\n",
    "pip install globus-sdk\n",
    "\n",
    "2. Create a new Project in the Globus developer portal\\\n",
    "https://auth.globus.org/v2/web/developers\n",
    "\n",
    "3. Create a new application to get the Client ID\n",
    "\n",
    "4. Select the scopes of your app as openid, email, profile\\\n",
    "urn:globus:auth:scope:transfer.api.globus.org:all"
   ]
  },
  {
   "cell_type": "markdown",
   "id": "33268a76",
   "metadata": {},
   "source": [
    "### Step 1: To get the access tokens"
   ]
  },
  {
   "cell_type": "code",
   "execution_count": null,
   "id": "9d3c9b11",
   "metadata": {},
   "outputs": [
    {
     "name": "stdout",
     "output_type": "stream",
     "text": [
      "Please go to this URL and login: https://auth.globus.org/v2/oauth2/authorize?client_id=%3CClient+ID%3E&redirect_uri=https%3A%2F%2Fauth.globus.org%2Fv2%2Fweb%2Fauth-code&scope=openid+profile+email+urn%3Aglobus%3Aauth%3Ascope%3Atransfer.api.globus.org%3Aall&state=_default&response_type=code&code_challenge=2ZHYvCpZa0QlMGSNoZ9T4TY4Df-_JH8DV53k23Rf20A&code_challenge_method=S256&access_type=online\n"
     ]
    }
   ],
   "source": [
    "import globus_sdk\n",
    "\n",
    "Your_Client_ID = \"<Client ID>\" #Generate the client ID through Globus developer web portal\n",
    "\n",
    "client = globus_sdk.NativeAppAuthClient(Your_Client_ID)\n",
    "client.oauth2_start_flow()\n",
    "\n",
    "authorize_url = client.oauth2_get_authorize_url()\n",
    "print(\"Please go to this URL and login: {0}\".format(authorize_url))\n",
    "\n",
    "auth_code = input(\"Please enter the code you get after login here: \").strip()\n",
    "token_response = client.oauth2_exchange_code_for_tokens(auth_code)\n",
    "\n",
    "globus_auth_data = token_response.by_resource_server[\"auth.globus.org\"]\n",
    "globus_transfer_data = token_response.by_resource_server[\"transfer.api.globus.org\"]\n",
    "\n",
    "AUTH_TOKEN = globus_auth_data[\"access_token\"]\n",
    "TRANSFER_TOKEN = globus_transfer_data[\"access_token\"]"
   ]
  },
  {
   "cell_type": "markdown",
   "id": "e6cbf5d5",
   "metadata": {},
   "source": [
    "### Step 2: Use the access token to list out the endpoints"
   ]
  },
  {
   "cell_type": "code",
   "execution_count": null,
   "id": "b005e7d1",
   "metadata": {},
   "outputs": [],
   "source": [
    "authorizer = globus_sdk.AccessTokenAuthorizer(TRANSFER_TOKEN)\n",
    "tc = globus_sdk.TransferClient(authorizer=authorizer)\n",
    "\n",
    "print(\"My Local Endpoints:\")\n",
    "for ep in tc.endpoint_search(filter_scope=\"my-endpoints\"):\n",
    "    print(\"[{}] {}\".format(ep[\"id\"], ep[\"display_name\"]))\n"
   ]
  },
  {
   "cell_type": "markdown",
   "id": "e709294e",
   "metadata": {},
   "source": [
    "### Step 3: Find a specific endpoint which is shared with you"
   ]
  },
  {
   "cell_type": "code",
   "execution_count": null,
   "id": "27ed34c1",
   "metadata": {},
   "outputs": [],
   "source": [
    "endpoint_name = \"<Endpoint Name>\"\n",
    "endpoints = tc.endpoint_search(endpoint_name, fields=\"id,display_name\")\n",
    "endpoint_id = None\n",
    "\n",
    "for ep in endpoints:\n",
    "    if ep['display_name'].upper() == endpoint_name.upper():\n",
    "        endpoint_id = ep['id']\n",
    "        break\n",
    "\n",
    "if endpoint_id is None:\n",
    "    print(f\"Error: endpoint with name '{endpoint_name}' not found\")\n",
    "else:\n",
    "    print(f\"ID of endpoint with name'{endpoint_name}': {endpoint_id}\")"
   ]
  },
  {
   "cell_type": "markdown",
   "id": "16b39e3a",
   "metadata": {},
   "source": [
    "### Step 4: Transfer a file"
   ]
  },
  {
   "cell_type": "code",
   "execution_count": null,
   "id": "97e6cdc3",
   "metadata": {},
   "outputs": [],
   "source": [
    "source_endpoint = \"<Source Endpoint UUID>\"  #Your local endpoint\n",
    "dest_endpoint = \"<Destination Endpoint UUID>\" #Endpoint shared with you\n",
    "\n",
    "tc.endpoint_autoactivate(source_endpoint)\n",
    "tc.endpoint_autoactivate(dest_endpoint)\n",
    "\n",
    "source_path = \"<Source Path>\" #Copy this from Globus File Manager\n",
    "dest_path = \"<Destination Path>\"\n",
    "\n",
    "filename = \"Test.txt\"\n",
    "\n",
    "tdata = globus_sdk.TransferData(tc, source_endpoint, dest_endpoint)\n",
    "\n",
    "tdata.add_item(source_path + filename, dest_path + filename)\n",
    "\n",
    "submit_result = tc.submit_transfer(tdata)\n",
    "print(f\"Task ID: {submit_result['task_id']}\")"
   ]
  },
  {
   "cell_type": "markdown",
   "id": "52579f52",
   "metadata": {},
   "source": [
    "### Step 5: Get the status of the task"
   ]
  },
  {
   "cell_type": "code",
   "execution_count": null,
   "id": "ae503c53",
   "metadata": {},
   "outputs": [],
   "source": [
    "status = tc.get_task(submit_result['task_id'], fields=\"status\")['status']\n",
    "print(f\"Task completed with status {status}\")"
   ]
  }
 ],
 "metadata": {
  "kernelspec": {
   "display_name": "Python 3 (ipykernel)",
   "language": "python",
   "name": "python3"
  },
  "language_info": {
   "codemirror_mode": {
    "name": "ipython",
    "version": 3
   },
   "file_extension": ".py",
   "mimetype": "text/x-python",
   "name": "python",
   "nbconvert_exporter": "python",
   "pygments_lexer": "ipython3",
   "version": "3.9.6"
  }
 },
 "nbformat": 4,
 "nbformat_minor": 5
}
